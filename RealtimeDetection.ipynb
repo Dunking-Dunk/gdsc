{
 "cells": [
  {
   "cell_type": "code",
   "execution_count": 1,
   "metadata": {},
   "outputs": [
    {
     "name": "stdout",
     "output_type": "stream",
     "text": [
      "Collecting ultralyticsNote: you may need to restart the kernel to use updated packages.\n"
     ]
    },
    {
     "name": "stderr",
     "output_type": "stream",
     "text": [
      "\n",
      "[notice] A new release of pip available: 22.3 -> 24.0\n",
      "[notice] To update, run: python.exe -m pip install --upgrade pip\n"
     ]
    },
    {
     "name": "stdout",
     "output_type": "stream",
     "text": [
      "\n",
      "  Downloading ultralytics-8.1.11-py3-none-any.whl (709 kB)\n",
      "     -------------------------------------- 709.5/709.5 kB 3.4 MB/s eta 0:00:00\n",
      "Requirement already satisfied: matplotlib>=3.3.0 in e:\\coding\\pythonlearning\\machinelearning\\imageclassification\\imageclassification\\lib\\site-packages (from ultralytics) (3.8.1)\n",
      "Requirement already satisfied: numpy>=1.22.2 in e:\\coding\\pythonlearning\\machinelearning\\imageclassification\\imageclassification\\lib\\site-packages (from ultralytics) (1.26.1)\n",
      "Requirement already satisfied: opencv-python>=4.6.0 in e:\\coding\\pythonlearning\\machinelearning\\imageclassification\\imageclassification\\lib\\site-packages (from ultralytics) (4.8.1.78)\n",
      "Requirement already satisfied: pillow>=7.1.2 in e:\\coding\\pythonlearning\\machinelearning\\imageclassification\\imageclassification\\lib\\site-packages (from ultralytics) (10.1.0)\n",
      "Collecting pyyaml>=5.3.1\n",
      "  Using cached PyYAML-6.0.1-cp311-cp311-win_amd64.whl (144 kB)\n",
      "Requirement already satisfied: requests>=2.23.0 in e:\\coding\\pythonlearning\\machinelearning\\imageclassification\\imageclassification\\lib\\site-packages (from ultralytics) (2.31.0)\n",
      "Collecting scipy>=1.4.1\n",
      "  Downloading scipy-1.12.0-cp311-cp311-win_amd64.whl (46.2 MB)\n",
      "     --------------------------------------- 46.2/46.2 MB 10.7 MB/s eta 0:00:00\n",
      "Collecting torch>=1.8.0\n",
      "  Downloading torch-2.2.0-cp311-cp311-win_amd64.whl (198.6 MB)\n",
      "     -------------------------------------- 198.6/198.6 MB 8.4 MB/s eta 0:00:00\n",
      "Collecting torchvision>=0.9.0\n",
      "  Downloading torchvision-0.17.0-cp311-cp311-win_amd64.whl (1.2 MB)\n",
      "     ---------------------------------------- 1.2/1.2 MB 10.5 MB/s eta 0:00:00\n",
      "Collecting tqdm>=4.64.0\n",
      "  Using cached tqdm-4.66.1-py3-none-any.whl (78 kB)\n",
      "Requirement already satisfied: psutil in e:\\coding\\pythonlearning\\machinelearning\\imageclassification\\imageclassification\\lib\\site-packages (from ultralytics) (5.9.6)\n",
      "Collecting py-cpuinfo\n",
      "  Using cached py_cpuinfo-9.0.0-py3-none-any.whl (22 kB)\n",
      "Collecting thop>=0.1.1\n",
      "  Downloading thop-0.1.1.post2209072238-py3-none-any.whl (15 kB)\n",
      "Collecting pandas>=1.1.4\n",
      "  Downloading pandas-2.2.0-cp311-cp311-win_amd64.whl (11.6 MB)\n",
      "     --------------------------------------- 11.6/11.6 MB 11.7 MB/s eta 0:00:00\n",
      "Collecting seaborn>=0.11.0\n",
      "  Downloading seaborn-0.13.2-py3-none-any.whl (294 kB)\n",
      "     ------------------------------------- 294.9/294.9 kB 19.0 MB/s eta 0:00:00\n",
      "Requirement already satisfied: contourpy>=1.0.1 in e:\\coding\\pythonlearning\\machinelearning\\imageclassification\\imageclassification\\lib\\site-packages (from matplotlib>=3.3.0->ultralytics) (1.2.0)\n",
      "Requirement already satisfied: cycler>=0.10 in e:\\coding\\pythonlearning\\machinelearning\\imageclassification\\imageclassification\\lib\\site-packages (from matplotlib>=3.3.0->ultralytics) (0.12.1)\n",
      "Requirement already satisfied: fonttools>=4.22.0 in e:\\coding\\pythonlearning\\machinelearning\\imageclassification\\imageclassification\\lib\\site-packages (from matplotlib>=3.3.0->ultralytics) (4.44.0)\n",
      "Requirement already satisfied: kiwisolver>=1.3.1 in e:\\coding\\pythonlearning\\machinelearning\\imageclassification\\imageclassification\\lib\\site-packages (from matplotlib>=3.3.0->ultralytics) (1.4.5)\n",
      "Requirement already satisfied: packaging>=20.0 in e:\\coding\\pythonlearning\\machinelearning\\imageclassification\\imageclassification\\lib\\site-packages (from matplotlib>=3.3.0->ultralytics) (23.2)\n",
      "Requirement already satisfied: pyparsing>=2.3.1 in e:\\coding\\pythonlearning\\machinelearning\\imageclassification\\imageclassification\\lib\\site-packages (from matplotlib>=3.3.0->ultralytics) (3.1.1)\n",
      "Requirement already satisfied: python-dateutil>=2.7 in e:\\coding\\pythonlearning\\machinelearning\\imageclassification\\imageclassification\\lib\\site-packages (from matplotlib>=3.3.0->ultralytics) (2.8.2)\n",
      "Collecting pytz>=2020.1\n",
      "  Downloading pytz-2024.1-py2.py3-none-any.whl (505 kB)\n",
      "     ------------------------------------- 505.5/505.5 kB 10.5 MB/s eta 0:00:00\n",
      "Collecting tzdata>=2022.7\n",
      "  Downloading tzdata-2023.4-py2.py3-none-any.whl (346 kB)\n",
      "     ------------------------------------- 346.6/346.6 kB 10.8 MB/s eta 0:00:00\n",
      "Requirement already satisfied: charset-normalizer<4,>=2 in e:\\coding\\pythonlearning\\machinelearning\\imageclassification\\imageclassification\\lib\\site-packages (from requests>=2.23.0->ultralytics) (3.3.2)\n",
      "Requirement already satisfied: idna<4,>=2.5 in e:\\coding\\pythonlearning\\machinelearning\\imageclassification\\imageclassification\\lib\\site-packages (from requests>=2.23.0->ultralytics) (3.4)\n",
      "Requirement already satisfied: urllib3<3,>=1.21.1 in e:\\coding\\pythonlearning\\machinelearning\\imageclassification\\imageclassification\\lib\\site-packages (from requests>=2.23.0->ultralytics) (2.0.7)\n",
      "Requirement already satisfied: certifi>=2017.4.17 in e:\\coding\\pythonlearning\\machinelearning\\imageclassification\\imageclassification\\lib\\site-packages (from requests>=2.23.0->ultralytics) (2023.7.22)\n",
      "Collecting filelock\n",
      "  Using cached filelock-3.13.1-py3-none-any.whl (11 kB)\n",
      "Requirement already satisfied: typing-extensions>=4.8.0 in e:\\coding\\pythonlearning\\machinelearning\\imageclassification\\imageclassification\\lib\\site-packages (from torch>=1.8.0->ultralytics) (4.8.0)\n",
      "Collecting sympy\n",
      "  Using cached sympy-1.12-py3-none-any.whl (5.7 MB)\n",
      "Collecting networkx\n",
      "  Using cached networkx-3.2.1-py3-none-any.whl (1.6 MB)\n",
      "Collecting jinja2\n",
      "  Downloading Jinja2-3.1.3-py3-none-any.whl (133 kB)\n",
      "     -------------------------------------- 133.2/133.2 kB 4.0 MB/s eta 0:00:00\n",
      "Collecting fsspec\n",
      "  Using cached fsspec-2024.2.0-py3-none-any.whl (170 kB)\n",
      "Requirement already satisfied: colorama in e:\\coding\\pythonlearning\\machinelearning\\imageclassification\\imageclassification\\lib\\site-packages (from tqdm>=4.64.0->ultralytics) (0.4.6)\n",
      "Requirement already satisfied: six>=1.5 in e:\\coding\\pythonlearning\\machinelearning\\imageclassification\\imageclassification\\lib\\site-packages (from python-dateutil>=2.7->matplotlib>=3.3.0->ultralytics) (1.16.0)\n",
      "Requirement already satisfied: MarkupSafe>=2.0 in e:\\coding\\pythonlearning\\machinelearning\\imageclassification\\imageclassification\\lib\\site-packages (from jinja2->torch>=1.8.0->ultralytics) (2.1.3)\n",
      "Collecting mpmath>=0.19\n",
      "  Using cached mpmath-1.3.0-py3-none-any.whl (536 kB)\n",
      "Installing collected packages: pytz, py-cpuinfo, mpmath, tzdata, tqdm, sympy, scipy, pyyaml, networkx, jinja2, fsspec, filelock, torch, pandas, torchvision, thop, seaborn, ultralytics\n",
      "Successfully installed filelock-3.13.1 fsspec-2024.2.0 jinja2-3.1.3 mpmath-1.3.0 networkx-3.2.1 pandas-2.2.0 py-cpuinfo-9.0.0 pytz-2024.1 pyyaml-6.0.1 scipy-1.12.0 seaborn-0.13.2 sympy-1.12 thop-0.1.1.post2209072238 torch-2.2.0 torchvision-0.17.0 tqdm-4.66.1 tzdata-2023.4 ultralytics-8.1.11\n"
     ]
    }
   ],
   "source": [
    "pip install ultralytics"
   ]
  },
  {
   "cell_type": "code",
   "execution_count": null,
   "metadata": {},
   "outputs": [],
   "source": []
  }
 ],
 "metadata": {
  "kernelspec": {
   "display_name": "imageClassification",
   "language": "python",
   "name": "python3"
  },
  "language_info": {
   "codemirror_mode": {
    "name": "ipython",
    "version": 3
   },
   "file_extension": ".py",
   "mimetype": "text/x-python",
   "name": "python",
   "nbconvert_exporter": "python",
   "pygments_lexer": "ipython3",
   "version": "3.11.0"
  }
 },
 "nbformat": 4,
 "nbformat_minor": 2
}
